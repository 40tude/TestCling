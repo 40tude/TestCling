{
 "cells": [
  {
   "cell_type": "markdown",
   "metadata": {},
   "source": [
    "See the book \"A tour of C++\" - Bjarne Stroustrup - page 2 - ISBN:978-0-321-958310"
   ]
  },
  {
   "cell_type": "markdown",
   "metadata": {},
   "source": [
    "# 1.3 Hello World!\n",
    "\n",
    "The minimal C++ program is\n",
    "\n",
    "```C++\n",
    "int main() { } // the minimal C++ program\n",
    "```\n"
   ]
  },
  {
   "cell_type": "markdown",
   "metadata": {},
   "source": [
    "This defines a function called **main** , which takes no arguments and does nothing.\n",
    "\n",
    "Curly braces, **{ }** , express grouping in C++. Here, they indicate the start and end of the function\n",
    "body. The double slash, **//** , begins a comment that extends to the end of the line. A comment is for\n",
    "the human reader; the compiler ignores comments.\n",
    "\n",
    "Every C++ program must have exactly one global function named **main()** . The program starts\n",
    "by executing that function. The **int** value returned by **main()** , if any, is the program’s return value to\n",
    "‘‘the system.’’ If no value is returned, the system will receive a value indicating successful comple-\n",
    "tion. A nonzero value from **main()** indicates failure. Not ev ery operating system and execution\n",
    "environment make use of that return value: Linux/Unix-based environments often do, but Win-\n",
    "dows-based environments rarely do.\n",
    "\n",
    "Typically, a program produces some output. Here is a program that writes **Hello, World!** :"
   ]
  },
  {
   "cell_type": "code",
   "execution_count": 1,
   "metadata": {},
   "outputs": [
    {
     "name": "stdout",
     "output_type": "stream",
     "text": [
      "Hello World!\n"
     ]
    }
   ],
   "source": [
    "#include <iostream>\n",
    "\n",
    "std::cout << \"Hello World!\\n\";\n"
   ]
  },
  {
   "cell_type": "code",
   "execution_count": 2,
   "metadata": {},
   "outputs": [],
   "source": [
    "?std::vector"
   ]
  },
  {
   "cell_type": "code",
   "execution_count": null,
   "metadata": {},
   "outputs": [],
   "source": []
  }
 ],
 "metadata": {
  "kernelspec": {
   "display_name": "xeus C++14",
   "language": "",
   "name": "xeus-cling-cpp14"
  },
  "language_info": {
   "codemirror_mode": "text/x-c++src",
   "file_extension": ".cpp",
   "mimetype": "text/x-c++src",
   "name": "c++",
   "version": ""
  }
 },
 "nbformat": 4,
 "nbformat_minor": 2
}
